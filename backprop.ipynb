{
 "cells": [
  {
   "cell_type": "markdown",
   "metadata": {},
   "source": [
    " - backpropagation is at the mathematical core of any modern deep learning library. \n",
    " - 'micrograd' is the essence of every neural network. Everything else is just for effeciency. "
   ]
  },
  {
   "cell_type": "markdown",
   "metadata": {},
   "source": [
    "-----------"
   ]
  },
  {
   "cell_type": "code",
   "execution_count": 1,
   "metadata": {},
   "outputs": [],
   "source": [
    "# we need a datastructure to store the complex mathematical expressions of neural nets\n",
    "class Value:\n",
    "    def __init__(self,data):\n",
    "        self.data = data\n",
    "    \n",
    "    # way to print the values nicely when objects are printed\n",
    "    def __repr__(self):\n",
    "        return f\"Value(data={self.data})\"\n",
    "    \n",
    "    def __add__(self, other):\n",
    "        return Value(self.data + other.data)\n",
    "    \n",
    "    def __mul__(self, other):\n",
    "        return Value(self.data * other.data)\n",
    "    "
   ]
  },
  {
   "cell_type": "code",
   "execution_count": 2,
   "metadata": {},
   "outputs": [
    {
     "name": "stdout",
     "output_type": "stream",
     "text": [
      "Value(data=-1.0)\n",
      "Value(data=-6.0)\n",
      "Value(data=-13.0)\n"
     ]
    }
   ],
   "source": [
    "a = Value(2.0)\n",
    "b = Value(-3.0)\n",
    "c = Value(5.0)\n",
    "\n",
    "print(a+b)\n",
    "print(a*b)\n",
    "print(a+b*c)\n"
   ]
  },
  {
   "cell_type": "markdown",
   "metadata": {},
   "source": [
    "------------"
   ]
  },
  {
   "cell_type": "code",
   "execution_count": 3,
   "metadata": {},
   "outputs": [],
   "source": [
    "# adding \"connecting tissue\" to Value using 'children' and 'operators'\n",
    "# this is basically storing and printing out the values involved in the operation and operation itself along with the result. \n",
    "class Value:\n",
    "    def __init__(self,data, _children = (), _op=''):\n",
    "        self.data = data\n",
    "        self._prev = set(_children)\n",
    "        self._op = _op\n",
    "    \n",
    "    # way to print the values nicely when objects are printed\n",
    "    def __repr__(self):\n",
    "        return f\"Value(data={self.data})\"\n",
    "    \n",
    "    def __add__(self, other):\n",
    "        return Value(self.data + other.data, (self,other),'+')\n",
    "    \n",
    "    def __mul__(self, other):\n",
    "        return Value(self.data * other.data, (self,other), 'x')"
   ]
  },
  {
   "cell_type": "code",
   "execution_count": 4,
   "metadata": {},
   "outputs": [
    {
     "name": "stdout",
     "output_type": "stream",
     "text": [
      "Value(data=-1.0)\n",
      "{Value(data=5.0), Value(data=-6.0)}\n",
      "+\n"
     ]
    }
   ],
   "source": [
    "a = Value(2.0)\n",
    "b = Value(-3.0)\n",
    "c = Value(5.0)\n",
    "\n",
    "d = a*b + c\n",
    "\n",
    "print(d)\n",
    "print(d._prev)\n",
    "print(d._op)"
   ]
  },
  {
   "cell_type": "markdown",
   "metadata": {},
   "source": [
    "---------"
   ]
  },
  {
   "cell_type": "code",
   "execution_count": 5,
   "metadata": {},
   "outputs": [],
   "source": [
    "# As expressions get more complex, we better have a way  to visualize them. The following code does this. \n",
    "from graphviz import Digraph\n",
    "\n",
    "def trace(root):\n",
    "    # builds graph's nodes and edges\n",
    "    nodes, edges = set(), set()\n",
    "    def build(v):\n",
    "        if v not in nodes:\n",
    "            nodes.add(v)\n",
    "            for child in v._prev:\n",
    "                edges.add((child,v))\n",
    "                build(child)\n",
    "    build(root)\n",
    "    return nodes,edges\n",
    "\n",
    "def draw_dot(root):\n",
    "    dot = Digraph(format='svg',graph_attr={'rankdir':'LR'}) # left 2 right\n",
    "\n",
    "    nodes,edges = trace(root)\n",
    "    for n in nodes:\n",
    "        uid = str(id(n))\n",
    "        # for every node, create a rectangle (\"record\")\n",
    "        dot.node(name = uid, label =\"{ data %.4f }\" % (n.data, ), shape = 'record')\n",
    "\n",
    "        if n._op:\n",
    "            # create a node for the operator if this is result of an operation\n",
    "            dot.node(name=uid+n._op, label = n._op)\n",
    "            # connect result with operator\n",
    "            dot.edge(uid+n._op, uid)\n",
    "    \n",
    "    for n1, n2 in edges:\n",
    "        # connecting n1 to the op node of n2\n",
    "        dot.edge(str(id(n1)), str(id(n2)) + n2._op)\n",
    "    \n",
    "    return dot\n",
    "\n",
    "        "
   ]
  },
  {
   "cell_type": "code",
   "execution_count": 6,
   "metadata": {},
   "outputs": [
    {
     "data": {
      "image/svg+xml": "<?xml version=\"1.0\" encoding=\"UTF-8\" standalone=\"no\"?>\n<!DOCTYPE svg PUBLIC \"-//W3C//DTD SVG 1.1//EN\"\n \"http://www.w3.org/Graphics/SVG/1.1/DTD/svg11.dtd\">\n<!-- Generated by graphviz version 8.0.5 (20230430.1635)\n -->\n<!-- Pages: 1 -->\n<svg width=\"513pt\" height=\"127pt\"\n viewBox=\"0.00 0.00 512.75 127.00\" xmlns=\"http://www.w3.org/2000/svg\" xmlns:xlink=\"http://www.w3.org/1999/xlink\">\n<g id=\"graph0\" class=\"graph\" transform=\"scale(1 1) rotate(0) translate(4 123)\">\n<polygon fill=\"white\" stroke=\"none\" points=\"-4,4 -4,-123 508.75,-123 508.75,4 -4,4\"/>\n<!-- 140282022273568 -->\n<g id=\"node1\" class=\"node\">\n<title>140282022273568</title>\n<polygon fill=\"none\" stroke=\"black\" points=\"212.5,-82.5 212.5,-118.5 292.25,-118.5 292.25,-82.5 212.5,-82.5\"/>\n<text text-anchor=\"middle\" x=\"252.38\" y=\"-94.7\" font-family=\"Times,serif\" font-size=\"14.00\">data 5.0000</text>\n</g>\n<!-- 140282022273952+ -->\n<g id=\"node6\" class=\"node\">\n<title>140282022273952+</title>\n<ellipse fill=\"none\" stroke=\"black\" cx=\"357.5\" cy=\"-72.5\" rx=\"27\" ry=\"18\"/>\n<text text-anchor=\"middle\" x=\"357.5\" y=\"-66.33\" font-family=\"Times,serif\" font-size=\"14.00\">+</text>\n</g>\n<!-- 140282022273568&#45;&gt;140282022273952+ -->\n<g id=\"edge5\" class=\"edge\">\n<title>140282022273568&#45;&gt;140282022273952+</title>\n<path fill=\"none\" stroke=\"black\" d=\"M292.07,-89.99C301.68,-87.38 311.93,-84.6 321.36,-82.04\"/>\n<polygon fill=\"black\" stroke=\"black\" points=\"322.24,-85.16 330.97,-79.16 320.4,-78.4 322.24,-85.16\"/>\n</g>\n<!-- 140282022276784 -->\n<g id=\"node2\" class=\"node\">\n<title>140282022276784</title>\n<polygon fill=\"none\" stroke=\"black\" points=\"0,-55.5 0,-91.5 84.25,-91.5 84.25,-55.5 0,-55.5\"/>\n<text text-anchor=\"middle\" x=\"42.12\" y=\"-67.7\" font-family=\"Times,serif\" font-size=\"14.00\">data &#45;3.0000</text>\n</g>\n<!-- 140282022275776x -->\n<g id=\"node4\" class=\"node\">\n<title>140282022275776x</title>\n<ellipse fill=\"none\" stroke=\"black\" cx=\"147.25\" cy=\"-45.5\" rx=\"27\" ry=\"18\"/>\n<text text-anchor=\"middle\" x=\"147.25\" y=\"-39.33\" font-family=\"Times,serif\" font-size=\"14.00\">x</text>\n</g>\n<!-- 140282022276784&#45;&gt;140282022275776x -->\n<g id=\"edge6\" class=\"edge\">\n<title>140282022276784&#45;&gt;140282022275776x</title>\n<path fill=\"none\" stroke=\"black\" d=\"M84.18,-62.35C93.1,-59.93 102.47,-57.39 111.14,-55.03\"/>\n<polygon fill=\"black\" stroke=\"black\" points=\"111.93,-58.17 120.67,-52.17 110.1,-51.42 111.93,-58.17\"/>\n</g>\n<!-- 140282022275776 -->\n<g id=\"node3\" class=\"node\">\n<title>140282022275776</title>\n<polygon fill=\"none\" stroke=\"black\" points=\"210.25,-27.5 210.25,-63.5 294.5,-63.5 294.5,-27.5 210.25,-27.5\"/>\n<text text-anchor=\"middle\" x=\"252.38\" y=\"-39.7\" font-family=\"Times,serif\" font-size=\"14.00\">data &#45;6.0000</text>\n</g>\n<!-- 140282022275776&#45;&gt;140282022273952+ -->\n<g id=\"edge4\" class=\"edge\">\n<title>140282022275776&#45;&gt;140282022273952+</title>\n<path fill=\"none\" stroke=\"black\" d=\"M294.43,-56.25C303.35,-58.59 312.72,-61.04 321.39,-63.31\"/>\n<polygon fill=\"black\" stroke=\"black\" points=\"320.36,-66.92 330.92,-66.06 322.13,-60.14 320.36,-66.92\"/>\n</g>\n<!-- 140282022275776x&#45;&gt;140282022275776 -->\n<g id=\"edge1\" class=\"edge\">\n<title>140282022275776x&#45;&gt;140282022275776</title>\n<path fill=\"none\" stroke=\"black\" d=\"M174.54,-45.5C182.18,-45.5 190.8,-45.5 199.43,-45.5\"/>\n<polygon fill=\"black\" stroke=\"black\" points=\"199.3,-49 209.3,-45.5 199.3,-42 199.3,-49\"/>\n</g>\n<!-- 140282022273952 -->\n<g id=\"node5\" class=\"node\">\n<title>140282022273952</title>\n<polygon fill=\"none\" stroke=\"black\" points=\"420.5,-54.5 420.5,-90.5 504.75,-90.5 504.75,-54.5 420.5,-54.5\"/>\n<text text-anchor=\"middle\" x=\"462.62\" y=\"-66.7\" font-family=\"Times,serif\" font-size=\"14.00\">data &#45;1.0000</text>\n</g>\n<!-- 140282022273952+&#45;&gt;140282022273952 -->\n<g id=\"edge2\" class=\"edge\">\n<title>140282022273952+&#45;&gt;140282022273952</title>\n<path fill=\"none\" stroke=\"black\" d=\"M384.79,-72.5C392.43,-72.5 401.05,-72.5 409.68,-72.5\"/>\n<polygon fill=\"black\" stroke=\"black\" points=\"409.55,-76 419.55,-72.5 409.55,-69 409.55,-76\"/>\n</g>\n<!-- 140282022275536 -->\n<g id=\"node7\" class=\"node\">\n<title>140282022275536</title>\n<polygon fill=\"none\" stroke=\"black\" points=\"2.25,-0.5 2.25,-36.5 82,-36.5 82,-0.5 2.25,-0.5\"/>\n<text text-anchor=\"middle\" x=\"42.12\" y=\"-12.7\" font-family=\"Times,serif\" font-size=\"14.00\">data 2.0000</text>\n</g>\n<!-- 140282022275536&#45;&gt;140282022275776x -->\n<g id=\"edge3\" class=\"edge\">\n<title>140282022275536&#45;&gt;140282022275776x</title>\n<path fill=\"none\" stroke=\"black\" d=\"M81.82,-28.63C91.43,-31.15 101.68,-33.83 111.11,-36.3\"/>\n<polygon fill=\"black\" stroke=\"black\" points=\"110.16,-39.93 120.72,-39.08 111.93,-33.16 110.16,-39.93\"/>\n</g>\n</g>\n</svg>\n",
      "text/plain": [
       "<graphviz.graphs.Digraph at 0x7f95f3fd4580>"
      ]
     },
     "execution_count": 6,
     "metadata": {},
     "output_type": "execute_result"
    }
   ],
   "source": [
    "# demo of above graph viz\n",
    "a = Value(2.0)\n",
    "b = Value(-3.0)\n",
    "c = Value(5.0)\n",
    "\n",
    "d = a*b + c\n",
    "\n",
    "draw_dot(d)\n",
    "\n"
   ]
  },
  {
   "cell_type": "markdown",
   "metadata": {},
   "source": [
    "------------"
   ]
  },
  {
   "cell_type": "code",
   "execution_count": 12,
   "metadata": {},
   "outputs": [],
   "source": [
    "# modify to add label to each node for better understanding\n",
    "class Value:\n",
    "    def __init__(self,data, _children = (), _op='', label = ''):\n",
    "        self.data = data\n",
    "        self._prev = set(_children)\n",
    "        self._op = _op\n",
    "        self.label = label\n",
    "    \n",
    "    # way to print the values nicely when objects are printed\n",
    "    def __repr__(self):\n",
    "        return f\"Value(data={self.data})\"\n",
    "    \n",
    "    def __add__(self, other):\n",
    "        return Value(self.data + other.data, (self,other),'+')\n",
    "    \n",
    "    def __mul__(self, other):\n",
    "        return Value(self.data * other.data, (self,other), 'x')"
   ]
  },
  {
   "cell_type": "code",
   "execution_count": 13,
   "metadata": {},
   "outputs": [],
   "source": [
    "# modify draw_dot to include label\n",
    "# As expressions get more complex, we better have a way  to visualize them. The following code does this. \n",
    "from graphviz import Digraph\n",
    "\n",
    "def trace(root):\n",
    "    # builds graph's nodes and edges\n",
    "    nodes, edges = set(), set()\n",
    "    def build(v):\n",
    "        if v not in nodes:\n",
    "            nodes.add(v)\n",
    "            for child in v._prev:\n",
    "                edges.add((child,v))\n",
    "                build(child)\n",
    "    build(root)\n",
    "    return nodes,edges\n",
    "\n",
    "def draw_dot(root):\n",
    "    dot = Digraph(format='svg',graph_attr={'rankdir':'LR'}) # left 2 right\n",
    "\n",
    "    nodes,edges = trace(root)\n",
    "    for n in nodes:\n",
    "        uid = str(id(n))\n",
    "        # for every node, create a rectangle (\"record\")\n",
    "        dot.node(name = uid, label =\"{ %s | data %.4f }\" % (n.label, n.data, ), shape = 'record')\n",
    "\n",
    "        if n._op:\n",
    "            # create a node for the operator if this is result of an operation\n",
    "            dot.node(name=uid+n._op, label = n._op)\n",
    "            # connect result with operator\n",
    "            dot.edge(uid+n._op, uid)\n",
    "    \n",
    "    for n1, n2 in edges:\n",
    "        # connecting n1 to the op node of n2\n",
    "        dot.edge(str(id(n1)), str(id(n2)) + n2._op)\n",
    "    \n",
    "    return dot"
   ]
  },
  {
   "cell_type": "code",
   "execution_count": 16,
   "metadata": {},
   "outputs": [
    {
     "data": {
      "text/plain": [
       "Value(data=-8.0)"
      ]
     },
     "execution_count": 16,
     "metadata": {},
     "output_type": "execute_result"
    }
   ],
   "source": [
    "a = Value(2.0, label='a')\n",
    "b = Value(-3.0, label='b')\n",
    "c = Value(10.0, label='c')\n",
    "\n",
    "e = a*b; e.label = 'e'\n",
    "d = e+c; d.label = 'd'\n",
    "\n",
    "f = Value(-2.0, label='f')\n",
    "L=d*f; L.label = 'L'\n",
    "L\n"
   ]
  },
  {
   "cell_type": "code",
   "execution_count": 17,
   "metadata": {},
   "outputs": [
    {
     "data": {
      "image/svg+xml": "<?xml version=\"1.0\" encoding=\"UTF-8\" standalone=\"no\"?>\n<!DOCTYPE svg PUBLIC \"-//W3C//DTD SVG 1.1//EN\"\n \"http://www.w3.org/Graphics/SVG/1.1/DTD/svg11.dtd\">\n<!-- Generated by graphviz version 8.0.5 (20230430.1635)\n -->\n<!-- Pages: 1 -->\n<svg width=\"810pt\" height=\"128pt\"\n viewBox=\"0.00 0.00 810.25 128.00\" xmlns=\"http://www.w3.org/2000/svg\" xmlns:xlink=\"http://www.w3.org/1999/xlink\">\n<g id=\"graph0\" class=\"graph\" transform=\"scale(1 1) rotate(0) translate(4 124)\">\n<polygon fill=\"white\" stroke=\"none\" points=\"-4,4 -4,-124 806.25,-124 806.25,4 -4,4\"/>\n<!-- 140282017553424 -->\n<g id=\"node1\" class=\"node\">\n<title>140282017553424</title>\n<polygon fill=\"none\" stroke=\"black\" points=\"467.5,-82.5 467.5,-118.5 572.25,-118.5 572.25,-82.5 467.5,-82.5\"/>\n<text text-anchor=\"middle\" x=\"477.75\" y=\"-94.7\" font-family=\"Times,serif\" font-size=\"14.00\">f</text>\n<polyline fill=\"none\" stroke=\"black\" points=\"488,-83.25 488,-118.5\"/>\n<text text-anchor=\"middle\" x=\"530.12\" y=\"-94.7\" font-family=\"Times,serif\" font-size=\"14.00\">data &#45;2.0000</text>\n</g>\n<!-- 140282024158592x -->\n<g id=\"node7\" class=\"node\">\n<title>140282024158592x</title>\n<ellipse fill=\"none\" stroke=\"black\" cx=\"635.25\" cy=\"-72.5\" rx=\"27\" ry=\"18\"/>\n<text text-anchor=\"middle\" x=\"635.25\" y=\"-66.33\" font-family=\"Times,serif\" font-size=\"14.00\">x</text>\n</g>\n<!-- 140282017553424&#45;&gt;140282024158592x -->\n<g id=\"edge9\" class=\"edge\">\n<title>140282017553424&#45;&gt;140282024158592x</title>\n<path fill=\"none\" stroke=\"black\" d=\"M571.92,-87.89C581.1,-85.63 590.47,-83.31 599.07,-81.19\"/>\n<polygon fill=\"black\" stroke=\"black\" points=\"599.6,-84.41 608.47,-78.62 597.93,-77.62 599.6,-84.41\"/>\n</g>\n<!-- 140282031623232 -->\n<g id=\"node2\" class=\"node\">\n<title>140282031623232</title>\n<polygon fill=\"none\" stroke=\"black\" points=\"0,-83.5 0,-119.5 107,-119.5 107,-83.5 0,-83.5\"/>\n<text text-anchor=\"middle\" x=\"11.38\" y=\"-95.7\" font-family=\"Times,serif\" font-size=\"14.00\">b</text>\n<polyline fill=\"none\" stroke=\"black\" points=\"22.75,-84.25 22.75,-119.5\"/>\n<text text-anchor=\"middle\" x=\"64.88\" y=\"-95.7\" font-family=\"Times,serif\" font-size=\"14.00\">data &#45;3.0000</text>\n</g>\n<!-- 140282022276496x -->\n<g id=\"node9\" class=\"node\">\n<title>140282022276496x</title>\n<ellipse fill=\"none\" stroke=\"black\" cx=\"170\" cy=\"-73.5\" rx=\"27\" ry=\"18\"/>\n<text text-anchor=\"middle\" x=\"170\" y=\"-67.33\" font-family=\"Times,serif\" font-size=\"14.00\">x</text>\n</g>\n<!-- 140282031623232&#45;&gt;140282022276496x -->\n<g id=\"edge6\" class=\"edge\">\n<title>140282031623232&#45;&gt;140282022276496x</title>\n<path fill=\"none\" stroke=\"black\" d=\"M106.72,-88.73C115.83,-86.5 125.1,-84.23 133.62,-82.15\"/>\n<polygon fill=\"black\" stroke=\"black\" points=\"134.41,-85.32 143.3,-79.54 132.75,-78.52 134.41,-85.32\"/>\n</g>\n<!-- 140282022274240 -->\n<g id=\"node3\" class=\"node\">\n<title>140282022274240</title>\n<polygon fill=\"none\" stroke=\"black\" points=\"468.62,-27.5 468.62,-63.5 571.12,-63.5 571.12,-27.5 468.62,-27.5\"/>\n<text text-anchor=\"middle\" x=\"480\" y=\"-39.7\" font-family=\"Times,serif\" font-size=\"14.00\">d</text>\n<polyline fill=\"none\" stroke=\"black\" points=\"491.38,-28.25 491.38,-63.5\"/>\n<text text-anchor=\"middle\" x=\"531.25\" y=\"-39.7\" font-family=\"Times,serif\" font-size=\"14.00\">data 4.0000</text>\n</g>\n<!-- 140282022274240&#45;&gt;140282024158592x -->\n<g id=\"edge8\" class=\"edge\">\n<title>140282022274240&#45;&gt;140282024158592x</title>\n<path fill=\"none\" stroke=\"black\" d=\"M570.93,-57.42C580.28,-59.65 589.86,-61.93 598.66,-64.02\"/>\n<polygon fill=\"black\" stroke=\"black\" points=\"597.76,-67.65 608.3,-66.56 599.38,-60.84 597.76,-67.65\"/>\n</g>\n<!-- 140282022274240+ -->\n<g id=\"node4\" class=\"node\">\n<title>140282022274240+</title>\n<ellipse fill=\"none\" stroke=\"black\" cx=\"404.5\" cy=\"-45.5\" rx=\"27\" ry=\"18\"/>\n<text text-anchor=\"middle\" x=\"404.5\" y=\"-39.33\" font-family=\"Times,serif\" font-size=\"14.00\">+</text>\n</g>\n<!-- 140282022274240+&#45;&gt;140282022274240 -->\n<g id=\"edge1\" class=\"edge\">\n<title>140282022274240+&#45;&gt;140282022274240</title>\n<path fill=\"none\" stroke=\"black\" d=\"M431.8,-45.5C439.69,-45.5 448.71,-45.5 457.88,-45.5\"/>\n<polygon fill=\"black\" stroke=\"black\" points=\"457.65,-49 467.65,-45.5 457.65,-42 457.65,-49\"/>\n</g>\n<!-- 140282031622896 -->\n<g id=\"node5\" class=\"node\">\n<title>140282031622896</title>\n<polygon fill=\"none\" stroke=\"black\" points=\"2.62,-28.5 2.62,-64.5 104.38,-64.5 104.38,-28.5 2.62,-28.5\"/>\n<text text-anchor=\"middle\" x=\"13.62\" y=\"-40.7\" font-family=\"Times,serif\" font-size=\"14.00\">a</text>\n<polyline fill=\"none\" stroke=\"black\" points=\"24.62,-29.25 24.62,-64.5\"/>\n<text text-anchor=\"middle\" x=\"64.5\" y=\"-40.7\" font-family=\"Times,serif\" font-size=\"14.00\">data 2.0000</text>\n</g>\n<!-- 140282031622896&#45;&gt;140282022276496x -->\n<g id=\"edge7\" class=\"edge\">\n<title>140282031622896&#45;&gt;140282022276496x</title>\n<path fill=\"none\" stroke=\"black\" d=\"M104.06,-58.19C113.96,-60.52 124.18,-62.93 133.49,-65.13\"/>\n<polygon fill=\"black\" stroke=\"black\" points=\"132.4,-68.7 142.94,-67.59 134.01,-61.89 132.4,-68.7\"/>\n</g>\n<!-- 140282024158592 -->\n<g id=\"node6\" class=\"node\">\n<title>140282024158592</title>\n<polygon fill=\"none\" stroke=\"black\" points=\"698.25,-54.5 698.25,-90.5 802.25,-90.5 802.25,-54.5 698.25,-54.5\"/>\n<text text-anchor=\"middle\" x=\"708.12\" y=\"-66.7\" font-family=\"Times,serif\" font-size=\"14.00\"> </text>\n<polyline fill=\"none\" stroke=\"black\" points=\"718,-55.25 718,-90.5\"/>\n<text text-anchor=\"middle\" x=\"760.12\" y=\"-66.7\" font-family=\"Times,serif\" font-size=\"14.00\">data &#45;8.0000</text>\n</g>\n<!-- 140282024158592x&#45;&gt;140282024158592 -->\n<g id=\"edge2\" class=\"edge\">\n<title>140282024158592x&#45;&gt;140282024158592</title>\n<path fill=\"none\" stroke=\"black\" d=\"M662.74,-72.5C670.35,-72.5 678.98,-72.5 687.77,-72.5\"/>\n<polygon fill=\"black\" stroke=\"black\" points=\"687.51,-76 697.51,-72.5 687.51,-69 687.51,-76\"/>\n</g>\n<!-- 140282022276496 -->\n<g id=\"node8\" class=\"node\">\n<title>140282022276496</title>\n<polygon fill=\"none\" stroke=\"black\" points=\"234.12,-55.5 234.12,-91.5 340.38,-91.5 340.38,-55.5 234.12,-55.5\"/>\n<text text-anchor=\"middle\" x=\"245.12\" y=\"-67.7\" font-family=\"Times,serif\" font-size=\"14.00\">e</text>\n<polyline fill=\"none\" stroke=\"black\" points=\"256.12,-56.25 256.12,-91.5\"/>\n<text text-anchor=\"middle\" x=\"298.25\" y=\"-67.7\" font-family=\"Times,serif\" font-size=\"14.00\">data &#45;6.0000</text>\n</g>\n<!-- 140282022276496&#45;&gt;140282022274240+ -->\n<g id=\"edge4\" class=\"edge\">\n<title>140282022276496&#45;&gt;140282022274240+</title>\n<path fill=\"none\" stroke=\"black\" d=\"M340.14,-60.89C349.55,-58.61 359.17,-56.27 367.97,-54.13\"/>\n<polygon fill=\"black\" stroke=\"black\" points=\"368.73,-57.31 377.62,-51.55 367.07,-50.51 368.73,-57.31\"/>\n</g>\n<!-- 140282022276496x&#45;&gt;140282022276496 -->\n<g id=\"edge3\" class=\"edge\">\n<title>140282022276496x&#45;&gt;140282022276496</title>\n<path fill=\"none\" stroke=\"black\" d=\"M197.44,-73.5C205.37,-73.5 214.43,-73.5 223.65,-73.5\"/>\n<polygon fill=\"black\" stroke=\"black\" points=\"223.51,-77 233.51,-73.5 223.51,-70 223.51,-77\"/>\n</g>\n<!-- 140282031623040 -->\n<g id=\"node10\" class=\"node\">\n<title>140282031623040</title>\n<polygon fill=\"none\" stroke=\"black\" points=\"233,-0.5 233,-36.5 341.5,-36.5 341.5,-0.5 233,-0.5\"/>\n<text text-anchor=\"middle\" x=\"244\" y=\"-12.7\" font-family=\"Times,serif\" font-size=\"14.00\">c</text>\n<polyline fill=\"none\" stroke=\"black\" points=\"255,-1.25 255,-36.5\"/>\n<text text-anchor=\"middle\" x=\"298.25\" y=\"-12.7\" font-family=\"Times,serif\" font-size=\"14.00\">data 10.0000</text>\n</g>\n<!-- 140282031623040&#45;&gt;140282022274240+ -->\n<g id=\"edge5\" class=\"edge\">\n<title>140282031623040&#45;&gt;140282022274240+</title>\n<path fill=\"none\" stroke=\"black\" d=\"M341.49,-30.97C350.51,-33.09 359.68,-35.23 368.1,-37.21\"/>\n<polygon fill=\"black\" stroke=\"black\" points=\"367.12,-40.81 377.66,-39.68 368.72,-33.99 367.12,-40.81\"/>\n</g>\n</g>\n</svg>\n",
      "text/plain": [
       "<graphviz.graphs.Digraph at 0x7f95f3c571c0>"
      ]
     },
     "execution_count": 17,
     "metadata": {},
     "output_type": "execute_result"
    }
   ],
   "source": [
    "draw_dot(L)"
   ]
  },
  {
   "cell_type": "code",
   "execution_count": null,
   "metadata": {},
   "outputs": [],
   "source": []
  }
 ],
 "metadata": {
  "kernelspec": {
   "display_name": "Python 3.9.12 ('base')",
   "language": "python",
   "name": "python3"
  },
  "language_info": {
   "codemirror_mode": {
    "name": "ipython",
    "version": 3
   },
   "file_extension": ".py",
   "mimetype": "text/x-python",
   "name": "python",
   "nbconvert_exporter": "python",
   "pygments_lexer": "ipython3",
   "version": "3.9.12"
  },
  "orig_nbformat": 4,
  "vscode": {
   "interpreter": {
    "hash": "3b6776494b81e516569e0b85de66668c9e01c1d07f8d3361ad160b8e56cd0e4a"
   }
  }
 },
 "nbformat": 4,
 "nbformat_minor": 2
}
